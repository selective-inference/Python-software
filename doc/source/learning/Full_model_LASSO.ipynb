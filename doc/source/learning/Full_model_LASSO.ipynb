{
 "cells": [
  {
   "cell_type": "markdown",
   "metadata": {},
   "source": [
    "# Inference in the full model\n",
    "\n",
    "This is the same example as considered in [Liu et al.](https://arxiv.org/abs/1801.09037) though we\n",
    "do not consider the special analysis in that paper. We let the computer\n",
    "guide us in correcting for selection.\n",
    "\n",
    "The functions `full_model_inference` and `pivot_plot` below are just simulation utilities\n",
    "used to simulate results in least squares regression. The underlying functionality\n",
    "is contained in the function `selectinf.learning.core.infer_full_target`."
   ]
  },
  {
   "cell_type": "code",
   "execution_count": 1,
   "metadata": {},
   "outputs": [
    {
     "name": "stderr",
     "output_type": "stream",
     "text": []
    }
   ],
   "source": [
    "import functools\n",
    "\n",
    "import numpy as np, pandas as pd\n",
    "import matplotlib.pyplot as plt\n",
    "%matplotlib inline\n",
    "import regreg.api as rr\n",
    "\n",
    "from selectinf.tests.instance import gaussian_instance # to generate the data\n",
    "from selectinf.learning.core import normal_sampler     # our representation of the (limiting) Gaussian data\n",
    "\n",
    "from selectinf.learning.utils import full_model_inference, pivot_plot\n",
    "from selectinf.learning.fitters import gbm_fit_sk"
   ]
  },
  {
   "cell_type": "markdown",
   "metadata": {},
   "source": [
    "We will know generate some data from an OLS regression model and fit the LASSO\n",
    "with a fixed value of $\\lambda$. In the simulation world, we know the\n",
    "true parameters, hence we can then return\n",
    "pivots for each variable selected by the LASSO. These pivots should look\n",
    "(marginally) like a draw from `np.random.sample`. This is the plot below."
   ]
  },
  {
   "cell_type": "code",
   "execution_count": 2,
   "metadata": {
    "collapsed": true
   },
   "outputs": [],
   "source": [
    "np.random.seed(0) # for replicability\n",
    "\n",
    "def simulate(n=200, \n",
    "             p=20, \n",
    "             s=5, \n",
    "             signal=(0.5, 1), \n",
    "             sigma=2, \n",
    "             alpha=0.1, \n",
    "             B=6000,\n",
    "             verbose=False):\n",
    "\n",
    "    # description of statistical problem\n",
    "\n",
    "    X, y, truth = gaussian_instance(n=n,\n",
    "                                    p=p, \n",
    "                                    s=s,\n",
    "                                    equicorrelated=False,\n",
    "                                    rho=0.5, \n",
    "                                    sigma=sigma,\n",
    "                                    signal=signal,\n",
    "                                    random_signs=True,\n",
    "                                    scale=False)[:3]\n",
    "\n",
    "\n",
    "    XTX = X.T.dot(X)\n",
    "    XTXi = np.linalg.inv(XTX)\n",
    "    resid = y - X.dot(XTXi.dot(X.T.dot(y)))\n",
    "    dispersion = np.linalg.norm(resid)**2 / (n-p)\n",
    "\n",
    "    S = X.T.dot(y)\n",
    "    covS = dispersion * X.T.dot(X)\n",
    "    \n",
    "    # this declares our target as linear in S where S has a given covariance\n",
    "    sampler = normal_sampler(S, covS) \n",
    "\n",
    "    def base_algorithm(XTX, lam, sampler):\n",
    "\n",
    "        p = XTX.shape[0]\n",
    "        success = np.zeros(p)\n",
    "\n",
    "        loss = rr.quadratic_loss((p,), Q=XTX)\n",
    "        pen = rr.l1norm(p, lagrange=lam)\n",
    "\n",
    "        scale = 0.\n",
    "        noisy_S = sampler(scale=scale)\n",
    "        loss.quadratic = rr.identity_quadratic(0, 0, -noisy_S, 0)\n",
    "        problem = rr.simple_problem(loss, pen)\n",
    "        soln = problem.solve(max_its=100, tol=1.e-10)\n",
    "        success += soln != 0\n",
    "        \n",
    "        return set(np.nonzero(success)[0])\n",
    "\n",
    "    \n",
    "    lam = 3.5 * np.sqrt(n)\n",
    "    selection_algorithm = functools.partial(base_algorithm, XTX, lam)\n",
    "    if verbose:\n",
    "        print(selection_algorithm(sampler))\n",
    "    # run selection algorithm\n",
    "\n",
    "    return full_model_inference(X,\n",
    "                                y,\n",
    "                                truth,\n",
    "                                selection_algorithm,\n",
    "                                sampler,\n",
    "                                success_params=(1, 1),\n",
    "                                B=B,\n",
    "                                fit_probability=gbm_fit_sk,\n",
    "                                fit_args={'n_estimators':500})"
   ]
  },
  {
   "cell_type": "markdown",
   "metadata": {},
   "source": [
    "Let's take a look at what we get as a return value:"
   ]
  },
  {
   "cell_type": "code",
   "execution_count": 3,
   "metadata": {},
   "outputs": [
    {
     "name": "stdout",
     "output_type": "stream",
     "text": [
      "{19}\n"
     ]
    },
    {
     "data": {
      "text/plain": [
       "Index(['B', 'alpha', 'coverage', 'id', 'length', 'lower', 'nfeature',\n",
       "       'nsample', 'pivot', 'pvalue', 'target', 'upper', 'variable',\n",
       "       'bonferroni_coverage', 'bonferroni_length', 'bonferroni_lower',\n",
       "       'bonferroni_pvalue', 'bonferroni_upper', 'naive_coverage',\n",
       "       'naive_length', 'naive_lower', 'naive_pivot', 'naive_pvalue',\n",
       "       'naive_upper'],\n",
       "      dtype='object')"
      ]
     },
     "execution_count": 3,
     "metadata": {},
     "output_type": "execute_result"
    }
   ],
   "source": [
    "while True:\n",
    "    df = simulate(verbose=True)\n",
    "    if df is not None:\n",
    "        break\n",
    "df.columns"
   ]
  },
  {
   "cell_type": "code",
   "execution_count": 4,
   "metadata": {},
   "outputs": [
    {
     "name": "stdout",
     "output_type": "stream",
     "text": []
    }
   ],
   "source": [
    "dfs = []\n",
    "for i in range(30):\n",
    "    df = simulate()\n",
    "    if df is not None:\n",
    "        dfs.append(df)"
   ]
  },
  {
   "cell_type": "code",
   "execution_count": 5,
   "metadata": {},
   "outputs": [
    {
     "data": {
      "image/png": "[encoded data removed]",
      "text/plain": [
       "<Figure size 576x576 with 1 Axes>"
      ]
     },
     "metadata": {},
     "output_type": "display_data"
    }
   ],
   "source": [
    "fig = plt.figure(figsize=(8, 8))\n",
    "results = pd.concat(dfs)\n",
    "pivot_plot(results, fig=fig);"
   ]
  }
 ],
 "metadata": {
  "jupytext": {
   "cell_metadata_filter": "all,-slideshow",
   "formats": "ipynb,Rmd"
  },
  "kernelspec": {
   "display_name": "Python 3",
   "language": "python",
   "name": "python3"
  },
  "language_info": {
   "codemirror_mode": {
    "name": "ipython",
    "version": 3
   },
   "file_extension": ".py",
   "mimetype": "text/x-python",
   "name": "python",
   "nbconvert_exporter": "python",
   "pygments_lexer": "ipython3",
   "version": "3.6.2"
  }
 },
 "nbformat": 4,
 "nbformat_minor": 2
}
